{
 "cells": [
  {
   "cell_type": "code",
   "execution_count": null,
   "metadata": {},
   "outputs": [],
   "source": [
    "from PIL import Image\n",
    "from glob import glob\n",
    "import secrets\n",
    "import json\n",
    "import datetime"
   ]
  },
  {
   "cell_type": "code",
   "execution_count": null,
   "metadata": {},
   "outputs": [],
   "source": [
    "def make_equidistant(pano):\n",
    "    width = pano.width\n",
    "    height = pano.height\n",
    "    \n",
    "    assert width//2 > height\n",
    "    \n",
    "    res = Image.new('RGB', size=(width, width//2), color=(0,0,0))\n",
    "    res.paste(pano, (0,(width//2-height)//2))\n",
    "        \n",
    "    return res\n",
    "    \n",
    "def create_id():\n",
    "    res = ''\n",
    "    for _ in range(32):\n",
    "        i = secrets.randbelow(62)\n",
    "        if i < 10:\n",
    "            res += chr(i+48)\n",
    "        elif i < 36:\n",
    "            res += chr(i+65-10)\n",
    "        else:\n",
    "            res += chr(i+97-36)\n",
    "        \n",
    "    return res"
   ]
  },
  {
   "cell_type": "code",
   "execution_count": null,
   "metadata": {},
   "outputs": [],
   "source": [
    "with open('../code/data_control.json', mode='r', encoding='utf-8') as f:\n",
    "    data_control = json.load(f)"
   ]
  },
  {
   "cell_type": "code",
   "execution_count": null,
   "metadata": {},
   "outputs": [],
   "source": [
    "for pano in glob('M:\\\\MarView\\\\0_new\\\\*.jpg'):\n",
    "    \n",
    "    pano_id = create_id()\n",
    "    \n",
    "    dic = {'id': pano_id,\n",
    "           'date': str(datetime.datetime.today())[:10],\n",
    "           'by': 'Jakob-L-M',\n",
    "           'location': '',\n",
    "           'fact': '',\n",
    "           'lat': 0.0,\n",
    "           'lng': 0.0\n",
    "          }\n",
    "    \n",
    "    picture = make_equidistant(Image.open(pano))\n",
    "    \n",
    "    picture.save('../code/panos/L/'+pano_id+'.jpg')\n",
    "    \n",
    "    picture.resize((4096, 2048)).save('../code/panos/M/'+pano_id+'.jpg')\n",
    "    \n",
    "    picture.resize((2048, 1024)).save('../code/panos/S/'+pano_id+'.jpg')\n",
    "    \n",
    "    data_control.append(dic)\n",
    "    \n",
    "with open('../code/data_control.json', mode='w', encoding='utf-8') as f:\n",
    "    json.dump(data_control, f)"
   ]
  }
 ],
 "metadata": {
  "kernelspec": {
   "display_name": "Python 3",
   "language": "python",
   "name": "python3"
  },
  "language_info": {
   "codemirror_mode": {
    "name": "ipython",
    "version": 3
   },
   "file_extension": ".py",
   "mimetype": "text/x-python",
   "name": "python",
   "nbconvert_exporter": "python",
   "pygments_lexer": "ipython3",
   "version": "3.8.6"
  }
 },
 "nbformat": 4,
 "nbformat_minor": 4
}
