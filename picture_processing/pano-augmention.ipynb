{
 "cells": [
  {
   "cell_type": "code",
   "execution_count": 2,
   "metadata": {},
   "outputs": [],
   "source": [
    "from PIL import Image\n",
    "from glob import glob"
   ]
  },
  {
   "cell_type": "code",
   "execution_count": 17,
   "metadata": {},
   "outputs": [],
   "source": [
    "def make_equidistant(pano):\n",
    "    width = pano.width\n",
    "    height = pano.height\n",
    "    \n",
    "    assert width//2 > height\n",
    "    \n",
    "    res = Image.new('RGB', size=(width, width//2), color=(0,0,0))\n",
    "    res.paste(pano, (0,(width//2-height)//2))\n",
    "        \n",
    "    return res\n",
    "    "
   ]
  },
  {
   "cell_type": "code",
   "execution_count": 18,
   "metadata": {},
   "outputs": [],
   "source": [
    "for pano in glob('M:\\\\MarView\\\\*\\\\*.jpg'):\n",
    "    picture = Image.open(pano)\n",
    "    make_equidistant(picture).save(pano[:-4] + '_g.jpg')"
   ]
  }
 ],
 "metadata": {
  "kernelspec": {
   "display_name": "Python 3",
   "language": "python",
   "name": "python3"
  },
  "language_info": {
   "codemirror_mode": {
    "name": "ipython",
    "version": 3
   },
   "file_extension": ".py",
   "mimetype": "text/x-python",
   "name": "python",
   "nbconvert_exporter": "python",
   "pygments_lexer": "ipython3",
   "version": "3.8.6"
  }
 },
 "nbformat": 4,
 "nbformat_minor": 4
}
